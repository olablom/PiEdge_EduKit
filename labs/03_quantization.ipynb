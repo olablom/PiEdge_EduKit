{
  "cells": [
    {
      "cell_type": "markdown",
      "metadata": {},
      "source": [
        "# ⚡ Kvantisering (INT8) - Komprimera modellen för snabbare inference\n",
        "\n",
        "**Mål**: Förstå hur kvantisering fungerar och när det är värt det.\n",
        "\n",
        "I detta notebook kommer vi att:\n",
        "- Förstå vad kvantisering är (FP32 → INT8)\n",
        "- Se hur det påverkar modellstorlek och latens\n",
        "- Experimentera med olika kalibreringsstorlekar\n",
        "- Förstå kompromisser (accuracy vs prestanda)\n",
        "\n",
        "> **💡 Tips**: Kvantisering är en av de viktigaste teknikerna för edge deployment - det kan göra modellen 4x snabbare!\n"
      ]
    },
    {
      "cell_type": "markdown",
      "metadata": {},
      "source": [
        "## 🤔 Vad är kvantisering?\n",
        "\n",
        "**Kvantisering** = konvertera modellen från 32-bit flyttal (FP32) till 8-bit heltal (INT8).\n",
        "\n",
        "**Fördelar**:\n",
        "- **4x mindre modellstorlek** (32 bit → 8 bit)\n",
        "- **2-4x snabbare inference** (INT8 är snabbare att beräkna)\n",
        "- **Mindre minnesanvändning** (viktigt för edge)\n",
        "\n",
        "**Kompromisser**:\n",
        "- **Accuracy-förlust** - modellen kan bli mindre exakt\n",
        "- **Kalibrering krävs** - behöver representativ data för att hitta rätt skala\n",
        "\n",
        "<details>\n",
        "<summary>🔍 Klicka för att se tekniska detaljer</summary>\n",
        "\n",
        "**Teknisk förklaring**:\n",
        "- FP32: 32 bit per vikt (4 bytes)\n",
        "- INT8: 8 bit per vikt (1 byte)\n",
        "- Kvantisering hittar rätt skala för varje vikt\n",
        "- Kalibrering använder representativ data för att optimera skalan\n",
        "\n",
        "</details>\n"
      ]
    },
    {
      "cell_type": "code",
      "execution_count": null,
      "metadata": {},
      "outputs": [],
      "source": [
        "# Först skapar vi en modell att kvantisera\n",
        "print(\"🚀 Skapar modell för kvantisering...\")\n",
        "!python -m piedge_edukit.train --fakedata --no-pretrained --epochs 1 --batch-size 256 --output-dir ./models_quant\n"
      ]
    },
    {
      "cell_type": "code",
      "execution_count": null,
      "metadata": {},
      "outputs": [],
      "source": [
        "# Kontrollera ursprunglig modellstorlek\n",
        "import os\n",
        "\n",
        "if os.path.exists(\"./models_quant/model.onnx\"):\n",
        "    original_size = os.path.getsize(\"./models_quant/model.onnx\") / (1024*1024)\n",
        "    print(f\"📦 Ursprunglig modellstorlek: {original_size:.2f} MB\")\n",
        "else:\n",
        "    print(\"❌ Modell saknas\")\n"
      ]
    },
    {
      "cell_type": "markdown",
      "metadata": {},
      "source": [
        "## 🧪 Experimentera med olika kalibreringsstorlekar\n",
        "\n",
        "**Kalibreringsstorlek** = antal bilder som används för att hitta rätt skala för kvantisering.\n",
        "\n",
        "**Större kalibrering**:\n",
        "- ✅ Bättre accuracy (mer representativ data)\n",
        "- ❌ Längre kvantiserings-tid\n",
        "- ❌ Mer minne under kvantisering\n",
        "\n",
        "**Mindre kalibrering**:\n",
        "- ✅ Snabbare kvantisering\n",
        "- ✅ Mindre minnesanvändning\n",
        "- ❌ Potentiellt sämre accuracy\n"
      ]
    },
    {
      "cell_type": "code",
      "execution_count": null,
      "metadata": {},
      "outputs": [],
      "source": [
        "# Test 1: Liten kalibrering (snabb)\n",
        "print(\"⚡ Test 1: Liten kalibrering (16 bilder)\")\n",
        "!python -m piedge_edukit.quantization --fakedata --model-path ./models_quant/model.onnx --calib-size 16\n"
      ]
    },
    {
      "cell_type": "code",
      "execution_count": null,
      "metadata": {},
      "outputs": [],
      "source": [
        "# Visa kvantiseringsresultat\n",
        "if os.path.exists(\"./reports/quantization_summary.txt\"):\n",
        "    with open(\"./reports/quantization_summary.txt\", \"r\") as f:\n",
        "        print(\"📊 Kvantiseringsresultat:\")\n",
        "        print(f.read())\n",
        "else:\n",
        "    print(\"❌ Kvantiseringsrapport saknas\")\n"
      ]
    },
    {
      "cell_type": "code",
      "execution_count": null,
      "metadata": {},
      "outputs": [],
      "source": [
        "# Jämför modellstorlekar\n",
        "if os.path.exists(\"./models_quant/model.onnx\") and os.path.exists(\"./models_quant/model_static.onnx\"):\n",
        "    original_size = os.path.getsize(\"./models_quant/model.onnx\") / (1024*1024)\n",
        "    quantized_size = os.path.getsize(\"./models_quant/model_static.onnx\") / (1024*1024)\n",
        "    \n",
        "    print(f\"📦 Modellstorlekar:\")\n",
        "    print(f\"  Ursprunglig (FP32): {original_size:.2f} MB\")\n",
        "    print(f\"  Kvantiserad (INT8): {quantized_size:.2f} MB\")\n",
        "    print(f\"  Komprimering: {original_size/quantized_size:.1f}x\")\n",
        "else:\n",
        "    print(\"❌ Modellfiler saknas\")\n"
      ]
    },
    {
      "cell_type": "code",
      "execution_count": null,
      "metadata": {},
      "outputs": [],
      "source": [
        "# Benchmark båda modellerna för att jämföra latens\n",
        "print(\"🚀 Benchmark ursprunglig modell (FP32)...\")\n",
        "!python -m piedge_edukit.benchmark --fakedata --model-path ./models_quant/model.onnx --warmup 3 --runs 20 --providers CPUExecutionProvider\n"
      ]
    },
    {
      "cell_type": "code",
      "execution_count": null,
      "metadata": {},
      "outputs": [],
      "source": [
        "# Benchmark kvantiserad modell (INT8)\n",
        "print(\"⚡ Benchmark kvantiserad modell (INT8)...\")\n",
        "!python -m piedge_edukit.benchmark --fakedata --model-path ./models_quant/model_static.onnx --warmup 3 --runs 20 --providers CPUExecutionProvider\n"
      ]
    },
    {
      "cell_type": "code",
      "execution_count": null,
      "metadata": {},
      "outputs": [],
      "source": [
        "# Jämför latens-resultat\n",
        "import pandas as pd\n",
        "\n",
        "# Läs båda benchmark-resultaten\n",
        "fp32_file = \"./reports/latency_summary.txt\"\n",
        "if os.path.exists(fp32_file):\n",
        "    with open(fp32_file, \"r\") as f:\n",
        "        fp32_content = f.read()\n",
        "    \n",
        "    # Extrahera mean latens från texten (enkel parsing)\n",
        "    lines = fp32_content.split('\\n')\n",
        "    fp32_mean = None\n",
        "    for line in lines:\n",
        "        if 'Mean' in line and 'ms' in line:\n",
        "            try:\n",
        "                fp32_mean = float(line.split(':')[1].strip().replace('ms', '').strip())\n",
        "                break\n",
        "            except:\n",
        "                pass\n",
        "    \n",
        "    print(f\"📊 Latens-jämförelse:\")\n",
        "    if fp32_mean:\n",
        "        print(f\"  FP32 (ursprunglig): {fp32_mean:.2f} ms\")\n",
        "    else:\n",
        "        print(f\"  FP32: Kunde inte parsa latens\")\n",
        "    \n",
        "    # TODO: Lägg till INT8-latens här när den är tillgänglig\n",
        "    print(f\"  INT8 (kvantiserad): [kommer efter benchmark]\")\n",
        "else:\n",
        "    print(\"❌ Benchmark-rapport saknas\")\n"
      ]
    },
    {
      "cell_type": "markdown",
      "metadata": {},
      "source": [
        "## 🤔 Reflektionsfrågor\n",
        "\n",
        "<details>\n",
        "<summary>💭 När är INT8-kvantisering värt det?</summary>\n",
        "\n",
        "**Svar**: INT8 är värt det när:\n",
        "- **Latens är kritisk** - realtidsapplikationer, edge deployment\n",
        "- **Minne är begränsat** - mobil, Raspberry Pi\n",
        "- **Accuracy-förlusten är acceptabel** - < 1-2% accuracy-förlust är ofta OK\n",
        "- **Batch size är liten** - kvantisering fungerar bäst med små batches\n",
        "\n",
        "**När INTE värt det**:\n",
        "- Accuracy är absolut kritisk\n",
        "- Du har gott om minne och CPU\n",
        "- Modellen är redan snabb nog\n",
        "\n",
        "</details>\n",
        "\n",
        "<details>\n",
        "<summary>💭 Vilka risker finns med kvantisering?</summary>\n",
        "\n",
        "**Svar**: Huvudrisker:\n",
        "- **Accuracy-förlust** - modellen kan bli mindre exakt\n",
        "- **Kalibreringsdata** - behöver representativ data för bra kvantisering\n",
        "- **Edge cases** - extrema värden kan orsaka problem\n",
        "- **Debugging** - kvantiserade modeller är svårare att debugga\n",
        "\n",
        "**Minskning**:\n",
        "- Testa noggrant med riktig data\n",
        "- Använd olika kalibreringsstorlekar\n",
        "- Benchmark både accuracy och latens\n",
        "\n",
        "</details>\n"
      ]
    },
    {
      "cell_type": "markdown",
      "metadata": {},
      "source": [
        "## 🎯 Ditt eget experiment\n",
        "\n",
        "**Uppgift**: Testa olika kalibreringsstorlekar och jämför resultaten.\n",
        "\n",
        "**Förslag**:\n",
        "- Testa kalibreringsstorlekar: 8, 16, 32, 64\n",
        "- Jämför modellstorlek och latens\n",
        "- Analysera accuracy-förlust (om tillgänglig)\n",
        "\n",
        "**Kod att modifiera**:\n",
        "```python\n",
        "# Ändra dessa värden:\n",
        "CALIB_SIZE = 32\n",
        "\n",
        "!python -m piedge_edukit.quantization --fakedata --model-path ./models_quant/model.onnx --calib-size {CALIB_SIZE}\n",
        "```\n"
      ]
    },
    {
      "cell_type": "code",
      "execution_count": null,
      "metadata": {},
      "outputs": [],
      "source": [
        "# TODO: Implementera ditt experiment här\n",
        "# Ändra värdena nedan och kör kvantisering\n",
        "\n",
        "CALIB_SIZE = 32\n",
        "\n",
        "print(f\"🧪 Mitt experiment: kalibreringsstorlek={CALIB_SIZE}\")\n",
        "\n",
        "# TODO: Kör kvantisering med din inställning\n",
        "# !python -m piedge_edukit.quantization --fakedata --model-path ./models_quant/model.onnx --calib-size {CALIB_SIZE}\n"
      ]
    },
    {
      "cell_type": "markdown",
      "metadata": {},
      "source": [
        "## 🎉 Sammanfattning\n",
        "\n",
        "Du har nu lärt dig:\n",
        "- Vad kvantisering är (FP32 → INT8) och varför det är viktigt\n",
        "- Hur kalibreringsstorlek påverkar resultatet\n",
        "- Kompromisser mellan accuracy och prestanda\n",
        "- När kvantisering är värt det vs när det inte är det\n",
        "\n",
        "**Nästa steg**: Gå till `04_evaluate_and_verify.ipynb` för att förstå automatiska checks och kvittogenerering.\n",
        "\n",
        "**Viktiga begrepp**:\n",
        "- **Kvantisering**: FP32 → INT8 för snabbare inference\n",
        "- **Kalibrering**: Representativ data för att hitta rätt skala\n",
        "- **Komprimering**: 4x mindre modellstorlek\n",
        "- **Speedup**: 2-4x snabbare inference\n"
      ]
    }
  ],
  "metadata": {
    "language_info": {
      "name": "python"
    }
  },
  "nbformat": 4,
  "nbformat_minor": 2
}
