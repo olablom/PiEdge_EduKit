{
  "cells": [
    {
      "cell_type": "markdown",
      "metadata": {},
      "source": [
        "# ⚡ Latensbenchmark - Förstå modellens prestanda\n",
        "\n",
        "**Mål**: Förstå hur vi mäter och tolkar modellens latens (svarstid).\n",
        "\n",
        "I detta notebook kommer vi att:\n",
        "- Förstå vad latens är och varför det är viktigt\n",
        "- Se hur benchmark fungerar (warmup, runs, providers)\n",
        "- Tolka resultat (p50, p95, histogram)\n",
        "- Experimentera med olika inställningar\n",
        "\n",
        "> **💡 Tips**: Latens är avgörande för edge deployment - en modell som är för långsam är inte användbar i verkligheten!\n"
      ]
    },
    {
      "cell_type": "markdown",
      "metadata": {},
      "source": [
        "## 🤔 Vad är latens och varför är det viktigt?\n",
        "\n",
        "**Latens** = tiden det tar för modellen att göra en förutsägelse (inference time).\n",
        "\n",
        "**Varför viktigt för edge**:\n",
        "- **Realtidsapplikationer** - robotar, autonoma fordon\n",
        "- **Användarupplevelse** - ingen vill vänta 5 sekunder på en bildklassificering\n",
        "- **Resursbegränsningar** - Raspberry Pi har begränsad CPU/memory\n",
        "\n",
        "<details>\n",
        "<summary>🔍 Klicka för att se typiska latensmål</summary>\n",
        "\n",
        "**Typiska latensmål**:\n",
        "- **< 10ms**: Realtidsvideo, gaming\n",
        "- **< 100ms**: Interaktiva applikationer\n",
        "- **< 1000ms**: Batch processing, offline analys\n",
        "\n",
        "**Vår modell**: Förväntar oss ~1-10ms på CPU (bra för edge!)\n",
        "\n",
        "</details>\n"
      ]
    },
    {
      "cell_type": "markdown",
      "metadata": {},
      "source": [
        "## 🔧 Hur fungerar benchmark?\n",
        "\n",
        "**Benchmark-processen**:\n",
        "1. **Warmup** - kör modellen några gånger för att \"värmma upp\" (JIT compilation, cache)\n",
        "2. **Runs** - mäter latens för många körningar\n",
        "3. **Statistik** - beräknar p50, p95, mean, std\n",
        "\n",
        "**Varför warmup?**\n",
        "- Första körningen är ofta långsam (JIT compilation)\n",
        "- Cache-värme påverkar prestanda\n",
        "- Vi vill mäta \"steady state\" prestanda\n"
      ]
    },
    {
      "cell_type": "code",
      "execution_count": null,
      "metadata": {},
      "outputs": [],
      "source": [
        "# Kör benchmark med olika inställningar\n",
        "print(\"🚀 Kör benchmark...\")\n",
        "\n",
        "# Använd modellen från föregående notebook (eller skapa en snabb)\n",
        "!python -m piedge_edukit.train --fakedata --no-pretrained --epochs 1 --batch-size 256 --output-dir ./models_bench\n"
      ]
    },
    {
      "cell_type": "code",
      "execution_count": null,
      "metadata": {},
      "outputs": [],
      "source": [
        "# Benchmark med olika antal runs för att se varians\n",
        "import os\n",
        "\n",
        "# Test 1: Få runs (snabb)\n",
        "print(\"📊 Test 1: 10 runs\")\n",
        "!python -m piedge_edukit.benchmark --fakedata --model-path ./models_bench/model.onnx --warmup 3 --runs 10 --providers CPUExecutionProvider\n"
      ]
    },
    {
      "cell_type": "code",
      "execution_count": null,
      "metadata": {},
      "outputs": [],
      "source": [
        "# Visa benchmark-resultat\n",
        "if os.path.exists(\"./reports/latency_summary.txt\"):\n",
        "    with open(\"./reports/latency_summary.txt\", \"r\") as f:\n",
        "        print(\"📈 Benchmark-resultat:\")\n",
        "        print(f.read())\n",
        "else:\n",
        "    print(\"❌ Benchmark-rapport saknas\")\n"
      ]
    },
    {
      "cell_type": "code",
      "execution_count": null,
      "metadata": {},
      "outputs": [],
      "source": [
        "# Läs detaljerade latensdata och visualisera\n",
        "import pandas as pd\n",
        "import matplotlib.pyplot as plt\n",
        "\n",
        "if os.path.exists(\"./reports/latency.csv\"):\n",
        "    df = pd.read_csv(\"./reports/latency.csv\")\n",
        "    \n",
        "    print(f\"📊 Latens-statistik:\")\n",
        "    print(f\"Antal mätningar: {len(df)}\")\n",
        "    print(f\"Mean: {df['latency_ms'].mean():.2f} ms\")\n",
        "    print(f\"Std: {df['latency_ms'].std():.2f} ms\")\n",
        "    print(f\"Min: {df['latency_ms'].min():.2f} ms\")\n",
        "    print(f\"Max: {df['latency_ms'].max():.2f} ms\")\n",
        "    \n",
        "    # Histogram\n",
        "    plt.figure(figsize=(10, 6))\n",
        "    plt.hist(df['latency_ms'], bins=20, alpha=0.7, edgecolor='black')\n",
        "    plt.xlabel('Latens (ms)')\n",
        "    plt.ylabel('Antal')\n",
        "    plt.title('Latens-distribution')\n",
        "    plt.grid(True, alpha=0.3)\n",
        "    plt.show()\n",
        "    \n",
        "    # Box plot\n",
        "    plt.figure(figsize=(8, 6))\n",
        "    plt.boxplot(df['latency_ms'])\n",
        "    plt.ylabel('Latens (ms)')\n",
        "    plt.title('Latens Box Plot')\n",
        "    plt.grid(True, alpha=0.3)\n",
        "    plt.show()\n",
        "else:\n",
        "    print(\"❌ Latens CSV saknas\")\n"
      ]
    },
    {
      "cell_type": "markdown",
      "metadata": {},
      "source": [
        "## 🤔 Reflektionsfrågor\n",
        "\n",
        "<details>\n",
        "<summary>💭 Varför är p95 viktigare än mean för edge deployment?</summary>\n",
        "\n",
        "**Svar**: p95 (95:e percentilen) visar den värsta latensen som 95% av användarna upplever. Det är viktigare än mean eftersom:\n",
        "\n",
        "- **Användarupplevelse**: En användare som får 100ms latens kommer att märka det, även om mean är 10ms\n",
        "- **SLA-krav**: Många system har SLA-krav på p95 latens\n",
        "- **Outliers**: Mean kan påverkas av extrema värden, p95 är mer robust\n",
        "\n",
        "</details>\n",
        "\n",
        "<details>\n",
        "<summary>💭 Vad händer med latens-variansen när du ökar antal runs?</summary>\n",
        "\n",
        "**Svar**: Med fler runs får vi:\n",
        "- **Mer stabil statistik** - p50/p95 blir mer tillförlitliga\n",
        "- **Bättre förståelse av varians** - ser om modellen är konsistent\n",
        "- **Mindre påverkan av outliers** - enstaka långsamma körningar påverkar mindre\n",
        "\n",
        "**Experiment**: Kör benchmark med 10, 50, 100 runs och jämför standardavvikelsen.\n",
        "\n",
        "</details>\n"
      ]
    },
    {
      "cell_type": "markdown",
      "metadata": {},
      "source": [
        "## 🎯 Ditt eget experiment\n",
        "\n",
        "**Uppgift**: Kör benchmark med olika inställningar och jämför resultaten.\n",
        "\n",
        "**Förslag**:\n",
        "- Testa olika antal runs (10, 50, 100)\n",
        "- Jämför warmup-effekten (0, 3, 10 warmup)\n",
        "- Analysera variansen mellan körningar\n",
        "\n",
        "**Kod att modifiera**:\n",
        "```python\n",
        "# Ändra dessa värden:\n",
        "WARMUP_RUNS = 5\n",
        "BENCHMARK_RUNS = 50\n",
        "\n",
        "!python -m piedge_edukit.benchmark --fakedata --model-path ./models_bench/model.onnx --warmup {WARMUP_RUNS} --runs {BENCHMARK_RUNS} --providers CPUExecutionProvider\n",
        "```\n"
      ]
    },
    {
      "cell_type": "code",
      "execution_count": null,
      "metadata": {},
      "outputs": [],
      "source": [
        "# TODO: Implementera ditt experiment här\n",
        "# Ändra värdena nedan och kör benchmark\n",
        "\n",
        "WARMUP_RUNS = 5\n",
        "BENCHMARK_RUNS = 50\n",
        "\n",
        "print(f\"🧪 Mitt experiment: warmup={WARMUP_RUNS}, runs={BENCHMARK_RUNS}\")\n",
        "\n",
        "# TODO: Kör benchmark med dina inställningar\n",
        "# !python -m piedge_edukit.benchmark --fakedata --model-path ./models_bench/model.onnx --warmup {WARMUP_RUNS} --runs {BENCHMARK_RUNS} --providers CPUExecutionProvider\n"
      ]
    },
    {
      "cell_type": "markdown",
      "metadata": {},
      "source": [
        "## 🎉 Sammanfattning\n",
        "\n",
        "Du har nu lärt dig:\n",
        "- Vad latens är och varför det är kritiskt för edge deployment\n",
        "- Hur benchmark fungerar (warmup, runs, statistik)\n",
        "- Hur man tolkar latens-resultat (p50, p95, varians)\n",
        "- Varför p95 är viktigare än mean för användarupplevelse\n",
        "\n",
        "**Nästa steg**: Gå till `03_quantization.ipynb` för att förstå hur kvantisering kan förbättra prestanda.\n",
        "\n",
        "**Viktiga begrepp**:\n",
        "- **Latens**: Inference-tid (kritiskt för edge)\n",
        "- **Warmup**: Förbereder modellen för mätning\n",
        "- **p50/p95**: Percentiler för latens-distribution\n",
        "- **Varians**: Konsistens i prestanda\n"
      ]
    }
  ],
  "metadata": {
    "language_info": {
      "name": "python"
    }
  },
  "nbformat": 4,
  "nbformat_minor": 2
}
