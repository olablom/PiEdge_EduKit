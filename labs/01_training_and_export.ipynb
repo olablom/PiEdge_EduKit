{
  "cells": [
    {
      "cell_type": "markdown",
      "metadata": {},
      "source": [
        "# 🧠 Träning & ONNX Export - Förstå vad som händer\n",
        "\n",
        "**Mål**: Förstå hur träning fungerar och experimentera med olika inställningar.\n",
        "\n",
        "I detta notebook kommer vi att:\n",
        "- Förstå vad FakeData är och varför vi använder det\n",
        "- Se hur dataset-pipeline → modell → loss/accuracy fungerar\n",
        "- Experimentera med olika hyperparametrar\n",
        "- Förstå varför vi exporterar till ONNX\n",
        "\n",
        "> **💡 Tips**: Kör cellerna i ordning och läs förklaringarna. Experimentera gärna med värdena!\n"
      ]
    },
    {
      "cell_type": "markdown",
      "metadata": {},
      "source": [
        "## 🤔 Vad är FakeData och varför använder vi det?\n",
        "\n",
        "**FakeData** är syntetiska bilder som PyTorch genererar automatiskt. Det är perfekt för:\n",
        "- **Snabb prototyping** - ingen nedladdning av stora dataset\n",
        "- **Reproducerbarhet** - samma data varje gång\n",
        "- **Undervisning** - fokus på algoritmer, inte datahantering\n",
        "\n",
        "<details>\n",
        "<summary>🔍 Klicka för att se vad FakeData innehåller</summary>\n",
        "\n",
        "```python\n",
        "# FakeData genererar:\n",
        "# - Slumpmässiga RGB-bilder (64x64 pixlar)\n",
        "# - Slumpmässiga klasser (0, 1, 2, ...)\n",
        "# - Samma struktur som riktiga bilddataset\n",
        "```\n",
        "\n",
        "</details>\n"
      ]
    },
    {
      "cell_type": "code",
      "execution_count": null,
      "metadata": {},
      "outputs": [],
      "source": [
        "# Låt oss skapa en liten FakeData för att se vad den innehåller\n",
        "import torch\n",
        "from torchvision import datasets\n",
        "import matplotlib.pyplot as plt\n",
        "\n",
        "# Skapa FakeData med 2 klasser\n",
        "fake_data = datasets.FakeData(size=10, num_classes=2, transform=None)\n",
        "\n",
        "# Visa första bilden\n",
        "image, label = fake_data[0]\n",
        "print(f\"Bildstorlek: {image.size}\")\n",
        "print(f\"Klass: {label}\")\n",
        "print(f\"Pixelvärden: {image.getextrema()}\")\n",
        "\n",
        "# Visa bilden\n",
        "plt.figure(figsize=(6, 4))\n",
        "plt.imshow(image)\n",
        "plt.title(f\"FakeData - Klass {label}\")\n",
        "plt.axis('off')\n",
        "plt.show()\n"
      ]
    },
    {
      "cell_type": "markdown",
      "metadata": {},
      "source": [
        "## 🎯 Experimentera med Träning\n",
        "\n",
        "Nu ska vi träna en modell och se hur olika inställningar påverkar resultatet.\n",
        "\n",
        "**Hyperparametrar att experimentera med**:\n",
        "- `epochs` - antal genomgångar av datasetet\n",
        "- `batch_size` - antal bilder per träningssteg\n",
        "- `--no-pretrained` - börja från noll vs förtränade vikter\n"
      ]
    },
    {
      "cell_type": "code",
      "execution_count": null,
      "metadata": {},
      "outputs": [],
      "source": [
        "# Experiment 1: Snabb träning (1 epoch, ingen pretrained)\n",
        "print(\"🧪 Experiment 1: Snabb träning\")\n",
        "!python -m piedge_edukit.train --fakedata --no-pretrained --epochs 1 --batch-size 128 --output-dir ./models_exp1\n"
      ]
    },
    {
      "cell_type": "code",
      "execution_count": null,
      "metadata": {},
      "outputs": [],
      "source": [
        "# Visa träningsresultat från Experiment 1\n",
        "import json\n",
        "import os\n",
        "\n",
        "if os.path.exists(\"./models_exp1/training_info.json\"):\n",
        "    with open(\"./models_exp1/training_info.json\", \"r\") as f:\n",
        "        info = json.load(f)\n",
        "    \n",
        "    print(\"📊 Träningsresultat (Experiment 1):\")\n",
        "    print(f\"Final accuracy: {info.get('final_accuracy', 'N/A'):.3f}\")\n",
        "    print(f\"Final loss: {info.get('final_loss', 'N/A'):.3f}\")\n",
        "    print(f\"Epochs: {info.get('epochs', 'N/A')}\")\n",
        "    print(f\"Batch size: {info.get('batch_size', 'N/A')}\")\n",
        "else:\n",
        "    print(\"❌ Träningsinfo saknas\")\n"
      ]
    },
    {
      "cell_type": "markdown",
      "metadata": {},
      "source": [
        "## 🤔 Reflektionsfrågor\n",
        "\n",
        "<details>\n",
        "<summary>💭 Vad händer med överfitting när du höjer epochs?</summary>\n",
        "\n",
        "**Svar**: Med fler epochs kan modellen lära sig träningsdata för bra och dåligt generalisera till nya data. Detta kallas överfitting.\n",
        "\n",
        "**Experiment**: Kör samma träning men med `--epochs 5` och jämför accuracy på tränings- vs valideringsdata.\n",
        "\n",
        "</details>\n",
        "\n",
        "<details>\n",
        "<summary>💭 Varför exporterar vi till ONNX (för Pi/edge)?</summary>\n",
        "\n",
        "**Svar**: ONNX är ett standardformat som fungerar på många plattformar (CPU, GPU, mobil, edge). Det gör modellen portabel och optimerad för inference.\n",
        "\n",
        "**Fördelar**:\n",
        "- Snabbare inference än PyTorch\n",
        "- Mindre minnesanvändning\n",
        "- Fungerar på Raspberry Pi\n",
        "- Stöd för kvantisering (INT8)\n",
        "\n",
        "</details>\n"
      ]
    },
    {
      "cell_type": "markdown",
      "metadata": {},
      "source": [
        "## 🎯 Ditt eget experiment\n",
        "\n",
        "**Uppgift**: Träna en modell med andra inställningar och jämför resultaten.\n",
        "\n",
        "**Förslag**:\n",
        "- Öka epochs till 3-5\n",
        "- Ändra batch_size till 64 eller 256\n",
        "- Testa med och utan `--no-pretrained`\n",
        "\n",
        "**Kod att modifiera**:\n",
        "```python\n",
        "# Ändra dessa värden:\n",
        "EPOCHS = 3\n",
        "BATCH_SIZE = 64\n",
        "USE_PRETRAINED = False  # True för förtränade vikter\n",
        "\n",
        "!python -m piedge_edukit.train --fakedata --epochs {EPOCHS} --batch-size {BATCH_SIZE} --output-dir ./models_myexp\n",
        "```\n"
      ]
    },
    {
      "cell_type": "code",
      "execution_count": null,
      "metadata": {},
      "outputs": [],
      "source": [
        "# TODO: Implementera ditt experiment här\n",
        "# Ändra värdena nedan och kör träningen\n",
        "\n",
        "EPOCHS = 3\n",
        "BATCH_SIZE = 64\n",
        "USE_PRETRAINED = False\n",
        "\n",
        "print(f\"🧪 Mitt experiment: epochs={EPOCHS}, batch_size={BATCH_SIZE}, pretrained={USE_PRETRAINED}\")\n",
        "\n",
        "# TODO: Kör träningen med dina inställningar\n",
        "# !python -m piedge_edukit.train --fakedata --epochs {EPOCHS} --batch-size {BATCH_SIZE} --output-dir ./models_myexp\n"
      ]
    },
    {
      "cell_type": "markdown",
      "metadata": {},
      "source": [
        "## 🎉 Sammanfattning\n",
        "\n",
        "Du har nu lärt dig:\n",
        "- Vad FakeData är och varför vi använder det\n",
        "- Hur träning fungerar med olika hyperparametrar\n",
        "- Varför ONNX-export är viktigt för edge deployment\n",
        "\n",
        "**Nästa steg**: Gå till `02_latency_benchmark.ipynb` för att förstå hur vi mäter modellens prestanda.\n",
        "\n",
        "**Viktiga begrepp**:\n",
        "- **Epochs**: Antal genomgångar av datasetet\n",
        "- **Batch size**: Antal bilder per träningssteg\n",
        "- **Pretrained weights**: Förtränade vikter från ImageNet\n",
        "- **ONNX**: Standardformat för edge deployment\n"
      ]
    }
  ],
  "metadata": {
    "language_info": {
      "name": "python"
    }
  },
  "nbformat": 4,
  "nbformat_minor": 2
}
