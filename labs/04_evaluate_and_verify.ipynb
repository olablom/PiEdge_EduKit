{
  "cells": [
    {
      "cell_type": "markdown",
      "metadata": {},
      "source": [
        "# 📋 Utvärdering & Verifiering - Automatiska checks och kvittogenerering\n",
        "\n",
        "**Mål**: Förstå hur automatisk verifiering fungerar och vad som kontrolleras.\n",
        "\n",
        "I detta notebook kommer vi att:\n",
        "- Förstå vad utvärdering innebär (confusion matrix, accuracy)\n",
        "- Se hur automatisk verifiering fungerar\n",
        "- Analysera kvittot och dess komponenter\n",
        "- Reflektera över vad som saknas för \"produktion\"\n",
        "\n",
        "> **💡 Tips**: Automatisk verifiering är kritiskt för att säkerställa att lektionen fungerar korrekt!\n"
      ]
    },
    {
      "cell_type": "markdown",
      "metadata": {},
      "source": [
        "## 🤔 Vad är utvärdering och varför behöver vi det?\n",
        "\n",
        "**Utvärdering** = testa modellen på data den inte har sett under träning.\n",
        "\n",
        "**Vad vi mäter**:\n",
        "- **Accuracy** - hur många förutsägelser som är rätta\n",
        "- **Confusion matrix** - detaljerad breakdown av rätta/felaktiga förutsägelser\n",
        "- **Per-class performance** - hur bra modellen är på varje klass\n",
        "\n",
        "**Varför viktigt**:\n",
        "- **Validering** - säkerställer att modellen faktiskt fungerar\n",
        "- **Debugging** - visar vilka klasser som är svåra\n",
        "- **Jämförelse** - kan jämföra olika modeller/inställningar\n",
        "\n",
        "<details>\n",
        "<summary>🔍 Klicka för att se vad en confusion matrix visar</summary>\n",
        "\n",
        "**Confusion matrix**:\n",
        "- **Diagonal** = rätta förutsägelser\n",
        "- **Off-diagonal** = felaktiga förutsägelser\n",
        "- **Per class** = precision, recall för varje klass\n",
        "\n",
        "</details>\n"
      ]
    },
    {
      "cell_type": "code",
      "execution_count": null,
      "metadata": {},
      "outputs": [],
      "source": [
        "# Kör utvärdering på vår modell\n",
        "print(\"🔍 Kör utvärdering...\")\n",
        "\n",
        "# Använd modellen från föregående notebooks (eller skapa en snabb)\n",
        "!python -m piedge_edukit.train --fakedata --no-pretrained --epochs 1 --batch-size 256 --output-dir ./models_eval\n"
      ]
    },
    {
      "cell_type": "code",
      "execution_count": null,
      "metadata": {},
      "outputs": [],
      "source": [
        "# Kör utvärdering med begränsat antal samples (snabbare)\n",
        "!python scripts/evaluate_onnx.py --model ./models_eval/model.onnx --fakedata --limit 32\n"
      ]
    },
    {
      "cell_type": "code",
      "execution_count": null,
      "metadata": {},
      "outputs": [],
      "source": [
        "# Visa utvärderingsresultat\n",
        "import os\n",
        "\n",
        "if os.path.exists(\"./reports/eval_summary.txt\"):\n",
        "    with open(\"./reports/eval_summary.txt\", \"r\") as f:\n",
        "        print(\"📊 Utvärderingsresultat:\")\n",
        "        print(f.read())\n",
        "else:\n",
        "    print(\"❌ Utvärderingsrapport saknas\")\n"
      ]
    },
    {
      "cell_type": "code",
      "execution_count": null,
      "metadata": {},
      "outputs": [],
      "source": [
        "# Visa confusion matrix om den finns\n",
        "import matplotlib.pyplot as plt\n",
        "from PIL import Image\n",
        "\n",
        "if os.path.exists(\"./reports/confusion_matrix.png\"):\n",
        "    print(\"📈 Confusion Matrix:\")\n",
        "    img = Image.open(\"./reports/confusion_matrix.png\")\n",
        "    plt.figure(figsize=(8, 6))\n",
        "    plt.imshow(img)\n",
        "    plt.axis('off')\n",
        "    plt.title('Confusion Matrix')\n",
        "    plt.show()\n",
        "else:\n",
        "    print(\"❌ Confusion matrix saknas\")\n"
      ]
    },
    {
      "cell_type": "markdown",
      "metadata": {},
      "source": [
        "## 🔍 Automatisk verifiering\n",
        "\n",
        "**Verifiering** = automatiska checks som säkerställer att lektionen fungerar korrekt.\n",
        "\n",
        "**Vad kontrolleras**:\n",
        "- **Artefakter finns** - alla nödvändiga filer är skapade\n",
        "- **Benchmark fungerar** - latens-data är giltig\n",
        "- **Kvantisering fungerar** - kvantiserad modell är skapad\n",
        "- **Utvärdering fungerar** - confusion matrix och accuracy är tillgänglig\n",
        "\n",
        "**Resultat**: `progress/receipt.json` med PASS/FAIL status\n"
      ]
    },
    {
      "cell_type": "code",
      "execution_count": null,
      "metadata": {},
      "outputs": [],
      "source": [
        "# Kör automatisk verifiering\n",
        "print(\"🔍 Kör automatisk verifiering...\")\n",
        "!python verify.py\n"
      ]
    },
    {
      "cell_type": "code",
      "execution_count": null,
      "metadata": {},
      "outputs": [],
      "source": [
        "# Analysera kvittot i detalj\n",
        "import json\n",
        "\n",
        "if os.path.exists(\"./progress/receipt.json\"):\n",
        "    with open(\"./progress/receipt.json\", \"r\") as f:\n",
        "        receipt = json.load(f)\n",
        "    \n",
        "    print(\"📋 Detaljerad kvitto-analys:\")\n",
        "    print(f\"Status: {'✅ PASS' if receipt['pass'] else '❌ FAIL'}\")\n",
        "    print(f\"Timestamp: {receipt['timestamp']}\")\n",
        "    \n",
        "    print(\"\\n🔍 Kontroller:\")\n",
        "    for check in receipt['checks']:\n",
        "        status = \"✅\" if check['ok'] else \"❌\"\n",
        "        print(f\"  {status} {check['name']}: {check['reason']}\")\n",
        "    \n",
        "    print(\"\\n📊 Metrics:\")\n",
        "    if 'metrics' in receipt:\n",
        "        for metric, value in receipt['metrics'].items():\n",
        "            print(f\"  {metric}: {value}\")\n",
        "    \n",
        "    print(\"\\n📁 Genererade filer:\")\n",
        "    if 'artifacts' in receipt:\n",
        "        for artifact in receipt['artifacts']:\n",
        "            print(f\"  - {artifact}\")\n",
        "else:\n",
        "    print(\"❌ Kvitto saknas\")\n"
      ]
    },
    {
      "cell_type": "markdown",
      "metadata": {},
      "source": [
        "## 🤔 Reflektionsfrågor\n",
        "\n",
        "<details>\n",
        "<summary>💭 Vilka mål verifieras av vår automatiska check?</summary>\n",
        "\n",
        "**Svar**: Vår verifiering kontrollerar:\n",
        "- **Teknisk funktionalitet** - alla steg körs utan fel\n",
        "- **Artefakt-generering** - nödvändiga filer skapas\n",
        "- **Data-integritet** - rapporter är giltiga och parseable\n",
        "- **Pipeline-integration** - alla komponenter fungerar tillsammans\n",
        "\n",
        "**Vad som INTE verifieras**:\n",
        "- Accuracy-kvalitet (bara att utvärdering körs)\n",
        "- Latens-mål (bara att benchmark körs)\n",
        "- Produktionsredo (bara att pipeline fungerar)\n",
        "\n",
        "</details>\n",
        "\n",
        "<details>\n",
        "<summary>💭 Vad saknas för \"produktion\"?</summary>\n",
        "\n",
        "**Svar**: För produktion behöver vi:\n",
        "- **Riktig data** - inte FakeData\n",
        "- **Accuracy-mål** - specifika krav på precision/recall\n",
        "- **Latens-mål** - SLA-krav på inference-tid\n",
        "- **Robusthet** - hantering av edge cases och fel\n",
        "- **Monitoring** - kontinuerlig övervakning av prestanda\n",
        "- **A/B-testing** - jämförelse av olika modeller\n",
        "- **Rollback** - möjlighet att gå tillbaka till tidigare version\n",
        "\n",
        "</details>\n"
      ]
    },
    {
      "cell_type": "markdown",
      "metadata": {},
      "source": [
        "## 🎯 Ditt eget experiment\n",
        "\n",
        "**Uppgift**: Kör verifiering på olika modeller och jämför kvittona.\n",
        "\n",
        "**Förslag**:\n",
        "- Träna modeller med olika inställningar\n",
        "- Kör verifiering på varje modell\n",
        "- Jämför kvittona och se vilka som passerar/failar\n",
        "- Analysera vilka checks som är mest kritiska\n",
        "\n",
        "**Kod att modifiera**:\n",
        "```python\n",
        "# Träna olika modeller och kör verifiering\n",
        "MODELS = [\n",
        "    {\"epochs\": 1, \"batch_size\": 128, \"name\": \"quick\"},\n",
        "    {\"epochs\": 3, \"batch_size\": 64, \"name\": \"balanced\"},\n",
        "    {\"epochs\": 5, \"batch_size\": 32, \"name\": \"thorough\"}\n",
        "]\n",
        "\n",
        "for model_config in MODELS:\n",
        "    # Träna modell\n",
        "    # Kör verifiering\n",
        "    # Analysera kvitto\n",
        "```\n"
      ]
    },
    {
      "cell_type": "code",
      "execution_count": null,
      "metadata": {},
      "outputs": [],
      "source": [
        "# TODO: Implementera ditt experiment här\n",
        "# Träna olika modeller och jämför kvittona\n",
        "\n",
        "MODELS = [\n",
        "    {\"epochs\": 1, \"batch_size\": 128, \"name\": \"quick\"},\n",
        "    {\"epochs\": 3, \"batch_size\": 64, \"name\": \"balanced\"},\n",
        "    {\"epochs\": 5, \"batch_size\": 32, \"name\": \"thorough\"}\n",
        "]\n",
        "\n",
        "print(\"🧪 Mitt experiment: Jämför olika modeller\")\n",
        "for model_config in MODELS:\n",
        "    print(f\"  - {model_config['name']}: epochs={model_config['epochs']}, batch_size={model_config['batch_size']}\")\n",
        "\n",
        "# TODO: Implementera loop som tränar och verifierar varje modell\n"
      ]
    },
    {
      "cell_type": "markdown",
      "metadata": {},
      "source": [
        "## 🎉 Sammanfattning\n",
        "\n",
        "Du har nu lärt dig:\n",
        "- Vad utvärdering är och varför det är viktigt\n",
        "- Hur automatisk verifiering fungerar\n",
        "- Vad som kontrolleras i kvittot\n",
        "- Vad som saknas för produktion\n",
        "\n",
        "**Du har genomfört hela PiEdge EduKit-lektionen!** 🎉\n",
        "\n",
        "**Vad du nu kan**:\n",
        "- Träna edge-ML modeller med PyTorch\n",
        "- Exportera till ONNX för edge deployment\n",
        "- Benchmarka latens och förstå prestanda\n",
        "- Kvantisera modeller för snabbare inference\n",
        "- Verifiera att hela pipeline fungerar\n",
        "\n",
        "**Nästa steg**: Experimentera med riktig data, olika modeller, eller deployera på Raspberry Pi!\n",
        "\n",
        "**Viktiga begrepp**:\n",
        "- **Utvärdering**: Testa modellen på osett data\n",
        "- **Confusion matrix**: Detaljerad breakdown av prestanda\n",
        "- **Verifiering**: Automatiska checks för pipeline-funktionalitet\n",
        "- **Kvitto**: Strukturerad rapport med PASS/FAIL status\n"
      ]
    }
  ],
  "metadata": {
    "language_info": {
      "name": "python"
    }
  },
  "nbformat": 4,
  "nbformat_minor": 2
}
