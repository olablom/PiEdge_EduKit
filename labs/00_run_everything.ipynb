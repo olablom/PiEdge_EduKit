{
  "cells": [
    {
      "cell_type": "markdown",
      "metadata": {},
      "source": [
        "# 🚀 PiEdge EduKit - Snabbkörning & Sanity Check\n",
        "\n",
        "**Mål**: Kör hela lektionen snabbt och se att allt fungerar.\n",
        "\n",
        "Detta notebook kör samma steg som `run_lesson.sh`, men som klickbara celler. Perfekt för att:\n",
        "- Komma igång snabbt\n",
        "- Se helheten innan vi går in på detaljer\n",
        "- Verifiera att din miljö fungerar\n",
        "\n",
        "> **💡 Tips**: Kör cellerna i ordning. Om något går fel, kolla att du har Python 3.12 och att `.venv` är aktiverat.\n"
      ]
    },
    {
      "cell_type": "markdown",
      "metadata": {},
      "source": [
        "## 1️⃣ Setup & Verifiering\n",
        "\n",
        "Först kontrollerar vi att miljön är korrekt:\n"
      ]
    },
    {
      "cell_type": "code",
      "execution_count": null,
      "metadata": {},
      "outputs": [],
      "source": [
        "# Kontrollera Python-version\n",
        "import sys\n",
        "print(f\"Python version: {sys.version}\")\n",
        "assert sys.version_info[:2] == (3, 12), f\"Python 3.12 krävs, du har {sys.version_info[:2]}\"\n",
        "print(\"✅ Python 3.12 OK\")\n"
      ]
    },
    {
      "cell_type": "code",
      "execution_count": null,
      "metadata": {},
      "outputs": [],
      "source": [
        "# Kontrollera att paketet är installerat\n",
        "try:\n",
        "    import piedge_edukit\n",
        "    print(\"✅ PiEdge EduKit package OK\")\n",
        "except ImportError:\n",
        "    print(\"❌ Package inte installerat. Kör: pip install -e .\")\n",
        "    raise\n"
      ]
    },
    {
      "cell_type": "markdown",
      "metadata": {},
      "source": [
        "## 2️⃣ Träning & ONNX Export\n",
        "\n",
        "Tränar en liten modell med FakeData och exporterar till ONNX:\n"
      ]
    },
    {
      "cell_type": "code",
      "execution_count": null,
      "metadata": {},
      "outputs": [],
      "source": [
        "# Träna modell (snabb körning för demo)\n",
        "!python -m piedge_edukit.train --fakedata --no-pretrained --epochs 1 --batch-size 256 --output-dir ./models\n"
      ]
    },
    {
      "cell_type": "code",
      "execution_count": null,
      "metadata": {},
      "outputs": [],
      "source": [
        "# Kontrollera att modellen skapades\n",
        "import os\n",
        "if os.path.exists(\"./models/model.onnx\"):\n",
        "    size_mb = os.path.getsize(\"./models/model.onnx\") / (1024*1024)\n",
        "    print(f\"✅ ONNX-modell skapad: {size_mb:.1f} MB\")\n",
        "else:\n",
        "    print(\"❌ ONNX-modell saknas\")\n"
      ]
    },
    {
      "cell_type": "markdown",
      "metadata": {},
      "source": [
        "## 3️⃣ Latensbenchmark\n",
        "\n",
        "Mäter hur snabb modellen är på CPU:\n"
      ]
    },
    {
      "cell_type": "code",
      "execution_count": null,
      "metadata": {},
      "outputs": [],
      "source": [
        "# Kör benchmark (snabb körning)\n",
        "!python -m piedge_edukit.benchmark --fakedata --model-path ./models/model.onnx --warmup 1 --runs 3 --providers CPUExecutionProvider\n"
      ]
    },
    {
      "cell_type": "code",
      "execution_count": null,
      "metadata": {},
      "outputs": [],
      "source": [
        "# Visa benchmark-resultat\n",
        "if os.path.exists(\"./reports/latency_summary.txt\"):\n",
        "    with open(\"./reports/latency_summary.txt\", \"r\") as f:\n",
        "        print(\"📊 Benchmark-resultat:\")\n",
        "        print(f.read())\n",
        "else:\n",
        "    print(\"❌ Benchmark-rapport saknas\")\n"
      ]
    },
    {
      "cell_type": "markdown",
      "metadata": {},
      "source": [
        "## 4️⃣ Kvantisering (INT8)\n",
        "\n",
        "Komprimerar modellen för snabbare inference:\n"
      ]
    },
    {
      "cell_type": "code",
      "execution_count": null,
      "metadata": {},
      "outputs": [],
      "source": [
        "# Kör kvantisering\n",
        "!python -m piedge_edukit.quantization --fakedata --model-path ./models/model.onnx --calib-size 16\n"
      ]
    },
    {
      "cell_type": "code",
      "execution_count": null,
      "metadata": {},
      "outputs": [],
      "source": [
        "# Visa kvantiseringsresultat\n",
        "if os.path.exists(\"./reports/quantization_summary.txt\"):\n",
        "    with open(\"./reports/quantization_summary.txt\", \"r\") as f:\n",
        "        print(\"⚡ Kvantiseringsresultat:\")\n",
        "        print(f.read())\n",
        "else:\n",
        "    print(\"❌ Kvantiseringsrapport saknas\")\n"
      ]
    },
    {
      "cell_type": "markdown",
      "metadata": {},
      "source": [
        "## 5️⃣ Utvärdering & Verifiering\n",
        "\n",
        "Testar modellen och genererar kvitto:\n"
      ]
    },
    {
      "cell_type": "code",
      "execution_count": null,
      "metadata": {},
      "outputs": [],
      "source": [
        "# Kör utvärdering\n",
        "!python scripts/evaluate_onnx.py --model ./models/model.onnx --fakedata --limit 16\n"
      ]
    },
    {
      "cell_type": "code",
      "execution_count": null,
      "metadata": {},
      "outputs": [],
      "source": [
        "# Kör verifiering och generera kvitto\n",
        "!python verify.py\n"
      ]
    },
    {
      "cell_type": "code",
      "execution_count": null,
      "metadata": {},
      "outputs": [],
      "source": [
        "# Visa kvitto\n",
        "import json\n",
        "if os.path.exists(\"./progress/receipt.json\"):\n",
        "    with open(\"./progress/receipt.json\", \"r\") as f:\n",
        "        receipt = json.load(f)\n",
        "    print(\"📋 Verifieringskvitto:\")\n",
        "    print(f\"Status: {'✅ PASS' if receipt['pass'] else '❌ FAIL'}\")\n",
        "    print(f\"Timestamp: {receipt['timestamp']}\")\n",
        "    print(\"\\nKontroller:\")\n",
        "    for check in receipt['checks']:\n",
        "        status = \"✅\" if check['ok'] else \"❌\"\n",
        "        print(f\"  {status} {check['name']}: {check['reason']}\")\n",
        "else:\n",
        "    print(\"❌ Kvitto saknas\")\n"
      ]
    },
    {
      "cell_type": "markdown",
      "metadata": {},
      "source": [
        "## 🎉 Klar!\n",
        "\n",
        "Du har nu kört hela PiEdge EduKit-lektionen! \n",
        "\n",
        "**Nästa steg**: Gå till `01_training_and_export.ipynb` för att förstå vad som hände under träningen.\n",
        "\n",
        "**Genererade filer**:\n",
        "- `models/model.onnx` - Tränad modell\n",
        "- `reports/` - Benchmark och kvantiseringsrapporter\n",
        "- `progress/receipt.json` - Verifieringskvitto\n"
      ]
    }
  ],
  "metadata": {
    "language_info": {
      "name": "python"
    }
  },
  "nbformat": 4,
  "nbformat_minor": 2
}
