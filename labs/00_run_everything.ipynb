{
 "cells": [
  {
   "cell_type": "markdown",
   "metadata": {},
   "source": [
    "# 🚀 PiEdge EduKit - Snabbkörning & Sanity Check\n",
    "\n",
    "**Mål**: Kör hela lektionen snabbt och se att allt fungerar.\n",
    "\n",
    "Detta notebook kör samma steg som `run_lesson.sh`, men som klickbara celler. Perfekt för att:\n",
    "- Komma igång snabbt\n",
    "- Se helheten innan vi går in på detaljer\n",
    "- Verifiera att din miljö fungerar\n",
    "\n",
    "> **💡 Tips**: Kör cellerna i ordning. Om något går fel, kolla att du har Python 3.12 och att `.venv` är aktiverat.\n"
   ]
  },
  {
   "cell_type": "markdown",
   "metadata": {},
   "source": [
    "## 1️⃣ Setup & Verifiering\n",
    "\n",
    "Först kontrollerar vi att miljön är korrekt:\n"
   ]
  },
  {
   "cell_type": "code",
   "execution_count": null,
   "metadata": {},
   "outputs": [],
   "source": [
    "# Make notebook run from repo root (not labs/) + quiet mode\n",
    "import os, sys, warnings, pathlib\n",
    "\n",
    "# If opened from labs/, change working directory to repo root\n",
    "nb_dir = pathlib.Path.cwd()\n",
    "if nb_dir.name == \"labs\":\n",
    "    os.chdir(nb_dir.parent)\n",
    "    print(\"-> Changed working dir to repo root:\", os.getcwd())\n",
    "\n",
    "# Ensure repo root is importable\n",
    "if os.getcwd() not in sys.path:\n",
    "    sys.path.insert(0, os.getcwd())\n",
    "\n",
    "# Quiet progress bars and some noisy warnings\n",
    "os.environ.setdefault(\"TQDM_DISABLE\", \"1\")  # hide tqdm progress bars\n",
    "warnings.filterwarnings(\"ignore\", category=UserWarning, module=\"onnxruntime\")\n",
    "\n"
   ]
  },
  {
   "cell_type": "code",
   "execution_count": 2,
   "metadata": {},
   "outputs": [
    {
     "name": "stdout",
     "output_type": "stream",
     "text": [
      "Python version: 3.12.10 (tags/v3.12.10:0cc8128, Apr  8 2025, 12:21:36) [MSC v.1943 64 bit (AMD64)]\n",
      "✅ PiEdge EduKit package OK\n"
     ]
    }
   ],
   "source": [
    "# Miljökoll + självläkning (Python 3.12 + editable install)\n",
    "import sys, os, importlib, subprocess\n",
    "print(f\"Python version: {sys.version}\")\n",
    "assert sys.version_info[:2] == (3, 12), f\"Python 3.12 krävs, du har {sys.version_info[:2]}\"\n",
    "\n",
    "try:\n",
    "    import piedge_edukit  # noqa: F401\n",
    "    print(\"✅ PiEdge EduKit package OK\")\n",
    "except ModuleNotFoundError:\n",
    "    # Hitta repo-roten: om vi står i labs/, gå ett steg upp\n",
    "    repo_root = os.path.abspath(os.path.join(os.getcwd(), \"..\")) if os.path.basename(os.getcwd()) == \"labs\" else os.getcwd()\n",
    "    print(\"⚠ Package saknas – installerar editable från:\", repo_root)\n",
    "    subprocess.check_call([sys.executable, \"-m\", \"pip\", \"install\", \"-e\", repo_root])\n",
    "    importlib.invalidate_caches()\n",
    "    import piedge_edukit  # noqa: F401\n",
    "    print(\"✅ Package installerat\")\n"
   ]
  },
  {
   "cell_type": "code",
   "execution_count": 3,
   "metadata": {},
   "outputs": [
    {
     "name": "stdout",
     "output_type": "stream",
     "text": [
      "✅ Paketet importeras – kör vidare!\n"
     ]
    }
   ],
   "source": [
    "# Paketet ska redan vara installerat av cellen ovan. Enkel sanity:\n",
    "import piedge_edukit\n",
    "print(\"✅ Paketet importeras – kör vidare!\")\n"
   ]
  },
  {
   "cell_type": "markdown",
   "metadata": {},
   "source": [
    "## 2️⃣ Träning & ONNX Export\n",
    "\n",
    "Tränar en liten modell med FakeData och exporterar till ONNX:\n"
   ]
  },
  {
   "cell_type": "code",
   "execution_count": 4,
   "metadata": {},
   "outputs": [
    {
     "name": "stdout",
     "output_type": "stream",
     "text": [
      "Using device: cpu\n",
      "[INFO] Using FakeData for training (no real images)\n",
      "Preparing data...\n",
      "Set 2 classes: ['class0', 'class1']\n",
      "Training model with 2 classes...\n",
      "Classes: ['class0', 'class1']\n",
      "\n",
      "Epoch 1/1\n",
      "Train Loss: 0.7062, Train Acc: 51.00%\n",
      "Val Loss: 0.6809, Val Acc: 65.00%\n",
      "\n",
      "Training completed! Best validation accuracy: 65.00%\n",
      "Exporting model to ONNX...\n",
      "[OK] Model exported to models\\model.onnx (opset 17)\n",
      "[OK] ONNX model verified successfully\n",
      "  Input shape: (1, 3, 64, 64)\n",
      "  Output shape: (1, 2)\n",
      "  Output dtype: float32\n",
      "[OK] Preprocessing configuration valid (hash: 9f9a96cb4a32eea9)\n",
      "[OK] Labels valid: 2 classes\n",
      "[OK] Model exported successfully to models\\model.onnx\n",
      "[OK] Training and export completed successfully!\n"
     ]
    }
   ],
   "source": [
    "# Träna modell (snabb körning för demo)\n",
    "!python -m piedge_edukit.train --fakedata --no-pretrained --epochs 1 --batch-size 256 --output-dir ./models\n"
   ]
  },
  {
   "cell_type": "code",
   "execution_count": 5,
   "metadata": {},
   "outputs": [
    {
     "name": "stdout",
     "output_type": "stream",
     "text": [
      "✅ ONNX-modell skapad: 8.5 MB\n"
     ]
    }
   ],
   "source": [
    "# Kontrollera att modellen skapades\n",
    "import os\n",
    "if os.path.exists(\"./models/model.onnx\"):\n",
    "    size_mb = os.path.getsize(\"./models/model.onnx\") / (1024*1024)\n",
    "    print(f\"✅ ONNX-modell skapad: {size_mb:.1f} MB\")\n",
    "else:\n",
    "    print(\"❌ ONNX-modell saknas\")\n"
   ]
  },
  {
   "cell_type": "markdown",
   "metadata": {},
   "source": [
    "## 3️⃣ Latensbenchmark\n",
    "\n",
    "Mäter hur snabb modellen är på CPU:\n"
   ]
  },
  {
   "cell_type": "code",
   "execution_count": 8,
   "metadata": {},
   "outputs": [
    {
     "name": "stdout",
     "output_type": "stream",
     "text": [
      "Starting latency benchmark...\n",
      "Model: models\\model.onnx\n",
      "Data: None\n",
      "Output: reports\n",
      "[OK] Model loaded successfully\n",
      "  Providers: ['CPUExecutionProvider']\n",
      "  Input shape: ['batch_size', 3, 64, 64]\n",
      "  Output shape: ['batch_size', 2]\n",
      "[INFO] Generating fake test data for benchmarking\n",
      "[OK] Generated 50 fake test images\n",
      "Running 1 warmup iterations...\n",
      "[OK] Warmup completed\n",
      "Running 3 benchmark iterations...\n",
      "[OK] Results saved to reports\n",
      "[OK] Plot saved to reports\\latency_plot.png\n",
      "\n",
      "==================================================\n",
      "BENCHMARK RESULTS\n",
      "==================================================\n",
      "Mean latency: 0.493 ms\n",
      "P50 latency:  0.490 ms\n",
      "P95 latency:  0.507 ms\n",
      "Std deviation: 0.012 ms\n",
      "==================================================\n",
      "\n",
      "[OK] Benchmark completed successfully!\n",
      "Results saved to: reports\n"
     ]
    },
    {
     "name": "stderr",
     "output_type": "stream",
     "text": [
      "C:\\Users\\olabl\\Documents\\GitHub\\piedge_edukit\\piedge_edukit\\benchmark.py:102: UserWarning: pkg_resources is deprecated as an API. See https://setuptools.pypa.io/en/latest/pkg_resources.html. The pkg_resources package is slated for removal as early as 2025-11-30. Refrain from using this package or pin to Setuptools<81.\n",
      "  import pkg_resources\n"
     ]
    }
   ],
   "source": [
    "# Kör benchmark (snabb körning)\n",
    "!python -m piedge_edukit.benchmark --fakedata --model-path ./models/model.onnx --warmup 1 --runs 3 --providers CPUExecutionProvider\n"
   ]
  },
  {
   "cell_type": "code",
   "execution_count": 9,
   "metadata": {},
   "outputs": [
    {
     "name": "stdout",
     "output_type": "stream",
     "text": [
      "📊 Benchmark-resultat:\n",
      "PiEdge EduKit - Latency Benchmark Results\n",
      "==================================================\n",
      "\n",
      "Version: 0.1.0\n",
      "Generated: 2025-10-01 14:09:09\n",
      "\n",
      "Version Information:\n",
      "  Python: 3.12.10\n",
      "  ONNX Runtime: 1.18.0\n",
      "  Platform: Windows-11-10.0.26100-SP0\n",
      "  Device: PC/Laptop\n",
      "\n",
      "System Information:\n",
      "  cpu_count: 20\n",
      "  memory_gb: 63.39\n",
      "  piedge_edukit_version: 0.1.0\n",
      "  cpu_governor: N/A\n",
      "\n",
      "Benchmark Configuration:\n",
      "  Model: model.onnx\n",
      "  Warmup runs: 1\n",
      "  Benchmark runs: 3\n",
      "  Batch size: 1\n",
      "\n",
      "Latency Statistics (ms):\n",
      "  Mean: 0.493\n",
      "  Std:  0.012\n",
      "  Min:  0.481\n",
      "  Max:  0.509\n",
      "  P50:  0.490\n",
      "  P95:  0.507\n",
      "  P99:  0.509\n",
      "\n"
     ]
    }
   ],
   "source": [
    "# Visa benchmark-resultat\n",
    "if os.path.exists(\"./reports/latency_summary.txt\"):\n",
    "    with open(\"./reports/latency_summary.txt\", \"r\") as f:\n",
    "        print(\"📊 Benchmark-resultat:\")\n",
    "        print(f.read())\n",
    "else:\n",
    "    print(\"❌ Benchmark-rapport saknas\")\n"
   ]
  },
  {
   "cell_type": "markdown",
   "metadata": {},
   "source": [
    "## 4️⃣ Kvantisering (INT8)\n",
    "\n",
    "Komprimerar modellen för snabbare inference:\n"
   ]
  },
  {
   "cell_type": "code",
   "execution_count": 10,
   "metadata": {},
   "outputs": [
    {
     "name": "stdout",
     "output_type": "stream",
     "text": [
      "Starting quantization benchmark...\n",
      "FP32 Model: models\\model.onnx\n",
      "Data: None\n",
      "Output: reports\n",
      "[OK] Preprocessing configuration valid (hash: 9f9a96cb4a32eea9)\n",
      "[OK] Labels valid: 2 classes\n",
      "[INFO] Generating fake calibration data for quantization\n",
      "[OK] Generated 16 fake calibration images\n",
      "Quantizing model to INT8...\n",
      "[ERROR] Quantization failed: 'list' object has no attribute 'get_next'\n",
      "This may be due to unsupported operations or ONNX Runtime version.\n",
      "Continuing with FP32 model only.\n",
      "\n",
      "Benchmarking FP32 model...\n",
      "Benchmarking FP32 model...\n",
      "Benchmarking FP32 model...\n",
      "\n",
      "Skipping INT8 benchmarking (quantization failed)\n",
      "[OK] Comparison results saved to reports\n",
      "[OK] Comparison plot saved to reports\\quantization_comparison.png\n",
      "\n",
      "============================================================\n",
      "QUANTIZATION BENCHMARK RESULTS\n",
      "============================================================\n",
      "Quantization Status: FAILED\n",
      "Error: INT8 quantization failed - continuing with FP32 only\n",
      "FP32 Latency: 0.569 ms\n",
      "FP32 Size: 8.47 MB\n",
      "============================================================\n",
      "\n",
      "[OK] Quantization benchmark completed successfully!\n",
      "Results saved to: reports\n"
     ]
    },
    {
     "name": "stderr",
     "output_type": "stream",
     "text": [
      "WARNING:root:Please consider to run pre-processing before quantization. Refer to example: https://github.com/microsoft/onnxruntime-inference-examples/blob/main/quantization/image_classification/cpu/ReadMe.md \n",
      "C:\\Users\\olabl\\Documents\\GitHub\\piedge_edukit\\piedge_edukit\\quantization.py:417: UserWarning: pkg_resources is deprecated as an API. See https://setuptools.pypa.io/en/latest/pkg_resources.html. The pkg_resources package is slated for removal as early as 2025-11-30. Refrain from using this package or pin to Setuptools<81.\n",
      "  import pkg_resources\n"
     ]
    }
   ],
   "source": [
    "# Kör kvantisering\n",
    "!python -m piedge_edukit.quantization --fakedata --model-path ./models/model.onnx --calib-size 16\n"
   ]
  },
  {
   "cell_type": "code",
   "execution_count": 11,
   "metadata": {},
   "outputs": [
    {
     "name": "stdout",
     "output_type": "stream",
     "text": [
      "⚡ Kvantiseringsresultat:\n",
      "PiEdge EduKit - Quantization Comparison Results\n",
      "============================================================\n",
      "\n",
      "Version: 0.1.0\n",
      "Generated: 2025-10-01 14:09:17\n",
      "\n",
      "Model Comparison:\n",
      "  FP32 Size: 8.47 MB\n",
      "  INT8 Size: N/A (quantization failed)\n",
      "  Size Reduction: N/A (quantization failed)\n",
      "\n",
      "Latency Comparison:\n",
      "  FP32 Mean: 0.569 ms\n",
      "  INT8 Mean: N/A (quantization failed)\n",
      "  Speedup: N/A (quantization failed)\n",
      "\n",
      "Accuracy Comparison: N/A (quantization failed)\n",
      "\n"
     ]
    }
   ],
   "source": [
    "# Visa kvantiseringsresultat\n",
    "if os.path.exists(\"./reports/quantization_summary.txt\"):\n",
    "    with open(\"./reports/quantization_summary.txt\", \"r\") as f:\n",
    "        print(\"⚡ Kvantiseringsresultat:\")\n",
    "        print(f.read())\n",
    "else:\n",
    "    print(\"❌ Kvantiseringsrapport saknas\")\n"
   ]
  },
  {
   "cell_type": "markdown",
   "metadata": {},
   "source": [
    "## 5️⃣ Utvärdering & Verifiering\n",
    "\n",
    "Testar modellen och genererar kvitto:\n"
   ]
  },
  {
   "cell_type": "code",
   "execution_count": 12,
   "metadata": {},
   "outputs": [
    {
     "name": "stderr",
     "output_type": "stream",
     "text": [
      "python: can't open file 'C:\\\\Users\\\\olabl\\\\Documents\\\\GitHub\\\\piedge_edukit\\\\labs\\\\scripts\\\\evaluate_onnx.py': [Errno 2] No such file or directory\n"
     ]
    }
   ],
   "source": [
    "# Kör utvärdering\n",
    "!python scripts/evaluate_onnx.py --model ./models/model.onnx --fakedata --limit 16\n"
   ]
  },
  {
   "cell_type": "code",
   "execution_count": 13,
   "metadata": {},
   "outputs": [
    {
     "name": "stderr",
     "output_type": "stream",
     "text": [
      "python: can't open file 'C:\\\\Users\\\\olabl\\\\Documents\\\\GitHub\\\\piedge_edukit\\\\labs\\\\verify.py': [Errno 2] No such file or directory\n"
     ]
    }
   ],
   "source": [
    "# Kör verifiering och generera kvitto\n",
    "!python verify.py\n"
   ]
  },
  {
   "cell_type": "code",
   "execution_count": 14,
   "metadata": {},
   "outputs": [
    {
     "name": "stdout",
     "output_type": "stream",
     "text": [
      "❌ Kvitto saknas\n"
     ]
    }
   ],
   "source": [
    "# Visa kvitto\n",
    "import json\n",
    "if os.path.exists(\"./progress/receipt.json\"):\n",
    "    with open(\"./progress/receipt.json\", \"r\") as f:\n",
    "        receipt = json.load(f)\n",
    "    print(\"📋 Verifieringskvitto:\")\n",
    "    print(f\"Status: {'✅ PASS' if receipt['pass'] else '❌ FAIL'}\")\n",
    "    print(f\"Timestamp: {receipt['timestamp']}\")\n",
    "    print(\"\\nKontroller:\")\n",
    "    for check in receipt['checks']:\n",
    "        status = \"✅\" if check['ok'] else \"❌\"\n",
    "        print(f\"  {status} {check['name']}: {check['reason']}\")\n",
    "else:\n",
    "    print(\"❌ Kvitto saknas\")\n"
   ]
  },
  {
   "cell_type": "markdown",
   "metadata": {},
   "source": [
    "## 🎉 Klar!\n",
    "\n",
    "Du har nu kört hela PiEdge EduKit-lektionen! \n",
    "\n",
    "**Nästa steg**: Gå till `01_training_and_export.ipynb` för att förstå vad som hände under träningen.\n",
    "\n",
    "**Genererade filer**:\n",
    "- `models/model.onnx` - Tränad modell\n",
    "- `reports/` - Benchmark och kvantiseringsrapporter\n",
    "- `progress/receipt.json` - Verifieringskvitto\n"
   ]
  },
  {
   "cell_type": "code",
   "execution_count": null,
   "metadata": {},
   "outputs": [],
   "source": []
  }
 ],
 "metadata": {
  "kernelspec": {
   "display_name": "Python 3.12 (piedge)",
   "language": "python",
   "name": "piedge-edukit-312"
  },
  "language_info": {
   "codemirror_mode": {
    "name": "ipython",
    "version": 3
   },
   "file_extension": ".py",
   "mimetype": "text/x-python",
   "name": "python",
   "nbconvert_exporter": "python",
   "pygments_lexer": "ipython3",
   "version": "3.12.10"
  }
 },
 "nbformat": 4,
 "nbformat_minor": 4
}
